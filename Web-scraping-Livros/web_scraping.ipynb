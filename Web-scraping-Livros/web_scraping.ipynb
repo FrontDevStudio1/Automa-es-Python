{
 "cells": [
  {
   "cell_type": "code",
   "execution_count": 1,
   "metadata": {},
   "outputs": [],
   "source": [
    "import pandas as pd\n",
    "from selenium import webdriver as web\n",
    "from selenium.webdriver.common.by import By\n",
    "import openpyxl "
   ]
  },
  {
   "cell_type": "code",
   "execution_count": 2,
   "metadata": {},
   "outputs": [],
   "source": [
    "\n",
    "driver = web.Chrome() \n",
    "\n",
    "\n",
    "\n"
   ]
  },
  {
   "cell_type": "code",
   "execution_count": 3,
   "metadata": {},
   "outputs": [],
   "source": [
    "url = 'https://books.toscrape.com/'\n",
    "driver.get(url)"
   ]
  },
  {
   "cell_type": "code",
   "execution_count": 4,
   "metadata": {},
   "outputs": [
    {
     "data": {
      "text/plain": [
       "'A Light in the Attic'"
      ]
     },
     "execution_count": 4,
     "metadata": {},
     "output_type": "execute_result"
    }
   ],
   "source": [
    "\n",
    "driver.find_elements(By.TAG_NAME,'a')[54].get_attribute('title')"
   ]
  },
  {
   "cell_type": "code",
   "execution_count": 5,
   "metadata": {},
   "outputs": [],
   "source": [
    "\n",
    "livros = driver.find_elements(By.TAG_NAME,'a')[54:94:2]"
   ]
  },
  {
   "cell_type": "code",
   "execution_count": 6,
   "metadata": {},
   "outputs": [],
   "source": [
    "\n",
    "lista_livros = [livro.get_attribute('title') for livro in livros]\n",
    "\n",
    "  "
   ]
  },
  {
   "cell_type": "code",
   "execution_count": 7,
   "metadata": {},
   "outputs": [],
   "source": [
    "\n",
    "livros = driver.find_elements(By.TAG_NAME,'a')[54:94:2]\n",
    "\n",
    "livros[0].click()\n"
   ]
  },
  {
   "cell_type": "code",
   "execution_count": 8,
   "metadata": {},
   "outputs": [
    {
     "data": {
      "text/plain": [
       "22"
      ]
     },
     "execution_count": 8,
     "metadata": {},
     "output_type": "execute_result"
    }
   ],
   "source": [
    "int(driver.find_element(By.CLASS_NAME,'instock').text.replace('In stock (','').replace('available)', ''))"
   ]
  },
  {
   "cell_type": "code",
   "execution_count": 9,
   "metadata": {},
   "outputs": [],
   "source": [
    "driver.back()"
   ]
  },
  {
   "cell_type": "code",
   "execution_count": 11,
   "metadata": {},
   "outputs": [],
   "source": [
    "livros = driver.find_elements(By.TAG_NAME,'a')[54:94:2]\n",
    "estoque_livros = []\n",
    "\n",
    "for livro in range(len(livros)):\n",
    "    livros = driver.find_elements(By.TAG_NAME,'a')[54:94:2]\n",
    "    livro = livros[livro]\n",
    "    livro.click()\n",
    "    qtnd_livros = int(driver.find_element(By.CLASS_NAME,'instock').text.replace('In stock (','').replace('available)', ''))\n",
    "    estoque_livros.append(qtnd_livros)\n",
    "    driver.back()\n",
    "\n"
   ]
  },
  {
   "cell_type": "code",
   "execution_count": 14,
   "metadata": {},
   "outputs": [],
   "source": [
    "tabela = {'Título': lista_livros,'Estoque': estoque_livros}\n",
    "\n",
    "planilha = pd.DataFrame(tabela)\n",
    "planilha.to_excel('livros.xlsx', index=False)\n"
   ]
  }
 ],
 "metadata": {
  "kernelspec": {
   "display_name": "Python 3",
   "language": "python",
   "name": "python3"
  },
  "language_info": {
   "codemirror_mode": {
    "name": "ipython",
    "version": 3
   },
   "file_extension": ".py",
   "mimetype": "text/x-python",
   "name": "python",
   "nbconvert_exporter": "python",
   "pygments_lexer": "ipython3",
   "version": "3.12.2"
  }
 },
 "nbformat": 4,
 "nbformat_minor": 2
}
